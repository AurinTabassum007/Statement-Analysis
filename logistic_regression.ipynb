{
 "cells": [
  {
   "cell_type": "code",
   "execution_count": 1,
   "metadata": {},
   "outputs": [],
   "source": [
    "import pandas as pd\n",
    "import numpy as np\n",
    "#import matplotlib as plt\n",
    "from sklearn.model_selection import KFold\n",
    "from sklearn import metrics\n",
    "from sklearn.metrics import confusion_matrix,classification_report,accuracy_score\n",
    "from sklearn import model_selection\n",
    "from sklearn.linear_model import LogisticRegression\n",
    "import pickle "
   ]
  },
  {
   "cell_type": "code",
   "execution_count": 2,
   "metadata": {},
   "outputs": [],
   "source": [
    "import json"
   ]
  },
  {
   "cell_type": "code",
   "execution_count": 3,
   "metadata": {},
   "outputs": [
    {
     "data": {
      "text/html": [
       "<div>\n",
       "<style scoped>\n",
       "    .dataframe tbody tr th:only-of-type {\n",
       "        vertical-align: middle;\n",
       "    }\n",
       "\n",
       "    .dataframe tbody tr th {\n",
       "        vertical-align: top;\n",
       "    }\n",
       "\n",
       "    .dataframe thead th {\n",
       "        text-align: right;\n",
       "    }\n",
       "</style>\n",
       "<table border=\"1\" class=\"dataframe\">\n",
       "  <thead>\n",
       "    <tr style=\"text-align: right;\">\n",
       "      <th></th>\n",
       "      <th>Label</th>\n",
       "      <th>Statement</th>\n",
       "      <th>ride_rating</th>\n",
       "    </tr>\n",
       "  </thead>\n",
       "  <tbody>\n",
       "    <tr>\n",
       "      <th>0</th>\n",
       "      <td>0</td>\n",
       "      <td>I completed running New York Marathon requeste...</td>\n",
       "      <td>1</td>\n",
       "    </tr>\n",
       "    <tr>\n",
       "      <th>1</th>\n",
       "      <td>0</td>\n",
       "      <td>My appointment time auto repairs required earl...</td>\n",
       "      <td>1</td>\n",
       "    </tr>\n",
       "    <tr>\n",
       "      <th>2</th>\n",
       "      <td>0</td>\n",
       "      <td>Whether I using Uber ride service Uber Eats or...</td>\n",
       "      <td>1</td>\n",
       "    </tr>\n",
       "    <tr>\n",
       "      <th>3</th>\n",
       "      <td>0</td>\n",
       "      <td>Why hard understand I trying retrieve Uber cab...</td>\n",
       "      <td>1</td>\n",
       "    </tr>\n",
       "    <tr>\n",
       "      <th>4</th>\n",
       "      <td>0</td>\n",
       "      <td>I South Beach FL I staying major hotel ordered...</td>\n",
       "      <td>1</td>\n",
       "    </tr>\n",
       "  </tbody>\n",
       "</table>\n",
       "</div>"
      ],
      "text/plain": [
       "   Label                                          Statement  ride_rating\n",
       "0      0  I completed running New York Marathon requeste...            1\n",
       "1      0  My appointment time auto repairs required earl...            1\n",
       "2      0  Whether I using Uber ride service Uber Eats or...            1\n",
       "3      0  Why hard understand I trying retrieve Uber cab...            1\n",
       "4      0  I South Beach FL I staying major hotel ordered...            1"
      ]
     },
     "execution_count": 3,
     "metadata": {},
     "output_type": "execute_result"
    }
   ],
   "source": [
    "df = pd.read_json(\"uber.json\")\n",
    "df.head()"
   ]
  },
  {
   "cell_type": "code",
   "execution_count": 4,
   "metadata": {},
   "outputs": [],
   "source": [
    "X = df['Statement']\n",
    "Y = df['Label']"
   ]
  },
  {
   "cell_type": "code",
   "execution_count": 5,
   "metadata": {},
   "outputs": [],
   "source": [
    "from sklearn.feature_extraction.text import TfidfVectorizer\n",
    "vect = TfidfVectorizer()\n",
    "vect.fit(X)\n",
    "X = vect.transform(X)\n"
   ]
  },
  {
   "cell_type": "code",
   "execution_count": 6,
   "metadata": {},
   "outputs": [
    {
     "name": "stdout",
     "output_type": "stream",
     "text": [
      "  (0, 283)\t0.0945852212189727\n",
      "  (0, 414)\t0.19694125681338445\n",
      "  (0, 542)\t0.12027882326613845\n",
      "  (0, 588)\t0.2145518712515096\n",
      "  (0, 983)\t0.1902223593984492\n",
      "  (0, 1250)\t0.15688215163264377\n",
      "  (0, 1289)\t0.08343059781527105\n",
      "  (0, 1554)\t0.1989303947216887\n",
      "  (0, 2189)\t0.19348789925836002\n",
      "  (0, 2473)\t0.18271768428807575\n",
      "  (0, 2673)\t0.12730095368359193\n",
      "  (0, 2841)\t0.17295738270939054\n",
      "  (0, 2855)\t0.15114465331741112\n",
      "  (0, 2870)\t0.10548822429161255\n",
      "  (0, 2887)\t0.08961029239733884\n",
      "  (0, 2901)\t0.10008024853204127\n",
      "  (0, 3448)\t0.12681305063091186\n",
      "  (0, 4013)\t0.12779654056405332\n",
      "  (0, 4138)\t0.23636460064348902\n",
      "  (0, 4156)\t0.1437057073160001\n",
      "  (0, 4349)\t0.08623537030617118\n",
      "  (0, 4557)\t0.19694125681338445\n",
      "  (0, 4583)\t0.21196762234414787\n",
      "  (0, 4678)\t0.11622456661024023\n",
      "  (0, 4909)\t0.09240248780621148\n",
      "  :\t:\n",
      "  (1342, 6242)\t0.18891819061230902\n",
      "  (1342, 6531)\t0.12636748150425745\n",
      "  (1342, 6869)\t0.08542106520951787\n",
      "  (1342, 6890)\t0.09688711220424137\n",
      "  (1342, 6956)\t0.11519324868357447\n",
      "  (1342, 7042)\t0.22475300968143797\n",
      "  (1342, 7164)\t0.0467822914378258\n",
      "  (1343, 224)\t0.17178459573835272\n",
      "  (1343, 492)\t0.3166501605007712\n",
      "  (1343, 499)\t0.25901590375496475\n",
      "  (1343, 982)\t0.14003405936728652\n",
      "  (1343, 1289)\t0.15455956635078977\n",
      "  (1343, 1616)\t0.14978902424250828\n",
      "  (1343, 3154)\t0.2840255718965485\n",
      "  (1343, 3909)\t0.16125687872829644\n",
      "  (1343, 5874)\t0.2538304261447388\n",
      "  (1343, 6076)\t0.23316109266115376\n",
      "  (1343, 6106)\t0.13369831280365696\n",
      "  (1343, 6363)\t0.21219382309659623\n",
      "  (1343, 6427)\t0.3066316012416654\n",
      "  (1343, 6628)\t0.28614573979595104\n",
      "  (1343, 6715)\t0.3131158546632883\n",
      "  (1343, 6890)\t0.2797163948363857\n",
      "  (1343, 7164)\t0.13506206971664597\n",
      "  (1343, 7178)\t0.2800034122337737\n"
     ]
    }
   ],
   "source": [
    "from scipy.sparse import coo_matrix\n",
    "X_sparse = coo_matrix(X)\n",
    "from sklearn.utils import shuffle\n",
    "X, X_sparse, Y = shuffle(X, X_sparse, Y, random_state=0)\n",
    "print(X)"
   ]
  },
  {
   "cell_type": "code",
   "execution_count": 7,
   "metadata": {},
   "outputs": [
    {
     "name": "stdout",
     "output_type": "stream",
     "text": [
      "KFold(n_splits=10, random_state=None, shuffle=False)\n"
     ]
    }
   ],
   "source": [
    "from sklearn.model_selection import KFold\n",
    "kf = KFold(n_splits=10)\n",
    "kf.get_n_splits(X)\n",
    "print(kf)"
   ]
  },
  {
   "cell_type": "code",
   "execution_count": 8,
   "metadata": {},
   "outputs": [
    {
     "name": "stdout",
     "output_type": "stream",
     "text": [
      "TRAIN: [ 135  136  137 ... 1341 1342 1343] TEST: [  0   1   2   3   4   5   6   7   8   9  10  11  12  13  14  15  16  17\n",
      "  18  19  20  21  22  23  24  25  26  27  28  29  30  31  32  33  34  35\n",
      "  36  37  38  39  40  41  42  43  44  45  46  47  48  49  50  51  52  53\n",
      "  54  55  56  57  58  59  60  61  62  63  64  65  66  67  68  69  70  71\n",
      "  72  73  74  75  76  77  78  79  80  81  82  83  84  85  86  87  88  89\n",
      "  90  91  92  93  94  95  96  97  98  99 100 101 102 103 104 105 106 107\n",
      " 108 109 110 111 112 113 114 115 116 117 118 119 120 121 122 123 124 125\n",
      " 126 127 128 129 130 131 132 133 134]\n",
      "TRAIN: [   0    1    2 ... 1341 1342 1343] TEST: [135 136 137 138 139 140 141 142 143 144 145 146 147 148 149 150 151 152\n",
      " 153 154 155 156 157 158 159 160 161 162 163 164 165 166 167 168 169 170\n",
      " 171 172 173 174 175 176 177 178 179 180 181 182 183 184 185 186 187 188\n",
      " 189 190 191 192 193 194 195 196 197 198 199 200 201 202 203 204 205 206\n",
      " 207 208 209 210 211 212 213 214 215 216 217 218 219 220 221 222 223 224\n",
      " 225 226 227 228 229 230 231 232 233 234 235 236 237 238 239 240 241 242\n",
      " 243 244 245 246 247 248 249 250 251 252 253 254 255 256 257 258 259 260\n",
      " 261 262 263 264 265 266 267 268 269]\n",
      "TRAIN: [   0    1    2 ... 1341 1342 1343] TEST: [270 271 272 273 274 275 276 277 278 279 280 281 282 283 284 285 286 287\n",
      " 288 289 290 291 292 293 294 295 296 297 298 299 300 301 302 303 304 305\n",
      " 306 307 308 309 310 311 312 313 314 315 316 317 318 319 320 321 322 323\n",
      " 324 325 326 327 328 329 330 331 332 333 334 335 336 337 338 339 340 341\n",
      " 342 343 344 345 346 347 348 349 350 351 352 353 354 355 356 357 358 359\n",
      " 360 361 362 363 364 365 366 367 368 369 370 371 372 373 374 375 376 377\n",
      " 378 379 380 381 382 383 384 385 386 387 388 389 390 391 392 393 394 395\n",
      " 396 397 398 399 400 401 402 403 404]\n",
      "TRAIN: [   0    1    2 ... 1341 1342 1343] TEST: [405 406 407 408 409 410 411 412 413 414 415 416 417 418 419 420 421 422\n",
      " 423 424 425 426 427 428 429 430 431 432 433 434 435 436 437 438 439 440\n",
      " 441 442 443 444 445 446 447 448 449 450 451 452 453 454 455 456 457 458\n",
      " 459 460 461 462 463 464 465 466 467 468 469 470 471 472 473 474 475 476\n",
      " 477 478 479 480 481 482 483 484 485 486 487 488 489 490 491 492 493 494\n",
      " 495 496 497 498 499 500 501 502 503 504 505 506 507 508 509 510 511 512\n",
      " 513 514 515 516 517 518 519 520 521 522 523 524 525 526 527 528 529 530\n",
      " 531 532 533 534 535 536 537 538 539]\n",
      "TRAIN: [   0    1    2 ... 1341 1342 1343] TEST: [540 541 542 543 544 545 546 547 548 549 550 551 552 553 554 555 556 557\n",
      " 558 559 560 561 562 563 564 565 566 567 568 569 570 571 572 573 574 575\n",
      " 576 577 578 579 580 581 582 583 584 585 586 587 588 589 590 591 592 593\n",
      " 594 595 596 597 598 599 600 601 602 603 604 605 606 607 608 609 610 611\n",
      " 612 613 614 615 616 617 618 619 620 621 622 623 624 625 626 627 628 629\n",
      " 630 631 632 633 634 635 636 637 638 639 640 641 642 643 644 645 646 647\n",
      " 648 649 650 651 652 653 654 655 656 657 658 659 660 661 662 663 664 665\n",
      " 666 667 668 669 670 671 672 673]\n",
      "TRAIN: [   0    1    2 ... 1341 1342 1343] TEST: [674 675 676 677 678 679 680 681 682 683 684 685 686 687 688 689 690 691\n",
      " 692 693 694 695 696 697 698 699 700 701 702 703 704 705 706 707 708 709\n",
      " 710 711 712 713 714 715 716 717 718 719 720 721 722 723 724 725 726 727\n",
      " 728 729 730 731 732 733 734 735 736 737 738 739 740 741 742 743 744 745\n",
      " 746 747 748 749 750 751 752 753 754 755 756 757 758 759 760 761 762 763\n",
      " 764 765 766 767 768 769 770 771 772 773 774 775 776 777 778 779 780 781\n",
      " 782 783 784 785 786 787 788 789 790 791 792 793 794 795 796 797 798 799\n",
      " 800 801 802 803 804 805 806 807]\n",
      "TRAIN: [   0    1    2 ... 1341 1342 1343] TEST: [808 809 810 811 812 813 814 815 816 817 818 819 820 821 822 823 824 825\n",
      " 826 827 828 829 830 831 832 833 834 835 836 837 838 839 840 841 842 843\n",
      " 844 845 846 847 848 849 850 851 852 853 854 855 856 857 858 859 860 861\n",
      " 862 863 864 865 866 867 868 869 870 871 872 873 874 875 876 877 878 879\n",
      " 880 881 882 883 884 885 886 887 888 889 890 891 892 893 894 895 896 897\n",
      " 898 899 900 901 902 903 904 905 906 907 908 909 910 911 912 913 914 915\n",
      " 916 917 918 919 920 921 922 923 924 925 926 927 928 929 930 931 932 933\n",
      " 934 935 936 937 938 939 940 941]\n",
      "TRAIN: [   0    1    2 ... 1341 1342 1343] TEST: [ 942  943  944  945  946  947  948  949  950  951  952  953  954  955\n",
      "  956  957  958  959  960  961  962  963  964  965  966  967  968  969\n",
      "  970  971  972  973  974  975  976  977  978  979  980  981  982  983\n",
      "  984  985  986  987  988  989  990  991  992  993  994  995  996  997\n",
      "  998  999 1000 1001 1002 1003 1004 1005 1006 1007 1008 1009 1010 1011\n",
      " 1012 1013 1014 1015 1016 1017 1018 1019 1020 1021 1022 1023 1024 1025\n",
      " 1026 1027 1028 1029 1030 1031 1032 1033 1034 1035 1036 1037 1038 1039\n",
      " 1040 1041 1042 1043 1044 1045 1046 1047 1048 1049 1050 1051 1052 1053\n",
      " 1054 1055 1056 1057 1058 1059 1060 1061 1062 1063 1064 1065 1066 1067\n",
      " 1068 1069 1070 1071 1072 1073 1074 1075]\n",
      "TRAIN: [   0    1    2 ... 1341 1342 1343] TEST: [1076 1077 1078 1079 1080 1081 1082 1083 1084 1085 1086 1087 1088 1089\n",
      " 1090 1091 1092 1093 1094 1095 1096 1097 1098 1099 1100 1101 1102 1103\n",
      " 1104 1105 1106 1107 1108 1109 1110 1111 1112 1113 1114 1115 1116 1117\n",
      " 1118 1119 1120 1121 1122 1123 1124 1125 1126 1127 1128 1129 1130 1131\n",
      " 1132 1133 1134 1135 1136 1137 1138 1139 1140 1141 1142 1143 1144 1145\n",
      " 1146 1147 1148 1149 1150 1151 1152 1153 1154 1155 1156 1157 1158 1159\n",
      " 1160 1161 1162 1163 1164 1165 1166 1167 1168 1169 1170 1171 1172 1173\n",
      " 1174 1175 1176 1177 1178 1179 1180 1181 1182 1183 1184 1185 1186 1187\n",
      " 1188 1189 1190 1191 1192 1193 1194 1195 1196 1197 1198 1199 1200 1201\n",
      " 1202 1203 1204 1205 1206 1207 1208 1209]\n",
      "TRAIN: [   0    1    2 ... 1207 1208 1209] TEST: [1210 1211 1212 1213 1214 1215 1216 1217 1218 1219 1220 1221 1222 1223\n",
      " 1224 1225 1226 1227 1228 1229 1230 1231 1232 1233 1234 1235 1236 1237\n",
      " 1238 1239 1240 1241 1242 1243 1244 1245 1246 1247 1248 1249 1250 1251\n",
      " 1252 1253 1254 1255 1256 1257 1258 1259 1260 1261 1262 1263 1264 1265\n",
      " 1266 1267 1268 1269 1270 1271 1272 1273 1274 1275 1276 1277 1278 1279\n",
      " 1280 1281 1282 1283 1284 1285 1286 1287 1288 1289 1290 1291 1292 1293\n",
      " 1294 1295 1296 1297 1298 1299 1300 1301 1302 1303 1304 1305 1306 1307\n",
      " 1308 1309 1310 1311 1312 1313 1314 1315 1316 1317 1318 1319 1320 1321\n",
      " 1322 1323 1324 1325 1326 1327 1328 1329 1330 1331 1332 1333 1334 1335\n",
      " 1336 1337 1338 1339 1340 1341 1342 1343]\n"
     ]
    }
   ],
   "source": [
    "for train_index, test_index in kf.split(X):\n",
    "    print(\"TRAIN:\", train_index, \"TEST:\", test_index)\n",
    "    X_train, X_test = X[train_index], X[test_index]\n",
    "    y_train, y_test = Y[train_index], Y[test_index]"
   ]
  },
  {
   "cell_type": "code",
   "execution_count": 9,
   "metadata": {},
   "outputs": [],
   "source": [
    "model = LogisticRegression()"
   ]
  },
  {
   "cell_type": "code",
   "execution_count": 10,
   "metadata": {},
   "outputs": [
    {
     "name": "stderr",
     "output_type": "stream",
     "text": [
      "C:\\Users\\USER\\Anaconda3\\lib\\site-packages\\sklearn\\linear_model\\logistic.py:433: FutureWarning: Default solver will be changed to 'lbfgs' in 0.22. Specify a solver to silence this warning.\n",
      "  FutureWarning)\n"
     ]
    },
    {
     "data": {
      "text/plain": [
       "LogisticRegression(C=1.0, class_weight=None, dual=False, fit_intercept=True,\n",
       "          intercept_scaling=1, max_iter=100, multi_class='warn',\n",
       "          n_jobs=None, penalty='l2', random_state=None, solver='warn',\n",
       "          tol=0.0001, verbose=0, warm_start=False)"
      ]
     },
     "execution_count": 10,
     "metadata": {},
     "output_type": "execute_result"
    }
   ],
   "source": [
    "model.fit(X_train, y_train)"
   ]
  },
  {
   "cell_type": "code",
   "execution_count": 11,
   "metadata": {},
   "outputs": [],
   "source": [
    "filename = 'logistic_reg.sav'"
   ]
  },
  {
   "cell_type": "code",
   "execution_count": 12,
   "metadata": {},
   "outputs": [],
   "source": [
    "pickle.dump(model, open(filename, 'wb'))"
   ]
  },
  {
   "cell_type": "code",
   "execution_count": 13,
   "metadata": {},
   "outputs": [],
   "source": [
    "loaded_model = pickle.load(open(filename, 'rb'))"
   ]
  },
  {
   "cell_type": "code",
   "execution_count": 14,
   "metadata": {},
   "outputs": [],
   "source": [
    "result = loaded_model.score(X_test, y_test)"
   ]
  },
  {
   "cell_type": "code",
   "execution_count": 15,
   "metadata": {},
   "outputs": [
    {
     "name": "stdout",
     "output_type": "stream",
     "text": [
      "0.835820895522388\n"
     ]
    }
   ],
   "source": [
    "print(result)"
   ]
  },
  {
   "cell_type": "code",
   "execution_count": 16,
   "metadata": {},
   "outputs": [
    {
     "name": "stdout",
     "output_type": "stream",
     "text": [
      "Wall time: 15 ms\n"
     ]
    },
    {
     "data": {
      "text/plain": [
       "array([0.20891486, 0.19949185, 0.1527302 , 0.18249226, 0.20618579,\n",
       "       0.13802152, 0.21877009, 0.14694219, 0.16777399, 0.11650543,\n",
       "       0.15493243, 0.13117447, 0.13218755, 0.18741821, 0.19420027,\n",
       "       0.19368766, 0.12694513, 0.15597301, 0.13740784, 0.16414455,\n",
       "       0.18730193, 0.17342392, 0.17472544, 0.16785517, 0.11539159,\n",
       "       0.26014294, 0.12123446, 0.1904723 , 0.17978839, 0.14550664,\n",
       "       0.19245077, 0.13825503, 0.14941388, 0.19363347, 0.13794546,\n",
       "       0.17942644, 0.16154016, 0.16625782, 0.13673262, 0.23668554,\n",
       "       0.15852268, 0.17318022, 0.21269547, 0.19556952, 0.16699672,\n",
       "       0.12634233, 0.12105589, 0.14111963, 0.1372088 , 0.13928786,\n",
       "       0.15015624, 0.20809306, 0.22056507, 0.19185891, 0.15673883,\n",
       "       0.22357721, 0.17789049, 0.16863797, 0.15962591, 0.18148187,\n",
       "       0.10410486, 0.16843351, 0.17508425, 0.2678493 , 0.16209634,\n",
       "       0.18288251, 0.20290378, 0.19695855, 0.14362602, 0.1481789 ,\n",
       "       0.14771977, 0.20556585, 0.1587288 , 0.23245467, 0.16645584,\n",
       "       0.14512184, 0.14102796, 0.17569758, 0.18138037, 0.1992741 ,\n",
       "       0.2029369 , 0.20115559, 0.18464352, 0.15018221, 0.15377512,\n",
       "       0.19213659, 0.11954684, 0.1531622 , 0.14943057, 0.17958472,\n",
       "       0.15928345, 0.19684067, 0.16784791, 0.19791223, 0.19318194,\n",
       "       0.15780207, 0.1791975 , 0.16993858, 0.14774275, 0.14548827,\n",
       "       0.20750438, 0.20543123, 0.16839354, 0.1306149 , 0.18753386,\n",
       "       0.24472354, 0.14427737, 0.11820662, 0.20340622, 0.14312361,\n",
       "       0.16939718, 0.22251127, 0.15195305, 0.18719366, 0.11701368,\n",
       "       0.16996148, 0.1600058 , 0.22314354, 0.18907267, 0.15957775,\n",
       "       0.19018279, 0.14859007, 0.14030426, 0.15552696, 0.13305148,\n",
       "       0.13224403, 0.17608559, 0.17676556, 0.15408509, 0.16469674,\n",
       "       0.15261711, 0.22953522, 0.23878139, 0.18983941])"
      ]
     },
     "execution_count": 16,
     "metadata": {},
     "output_type": "execute_result"
    }
   ],
   "source": [
    "logreg = LogisticRegression()\n",
    "%time logreg.fit(X_train, y_train)\n",
    "y_pred_class = logreg.predict(X_test)\n",
    "y_pred_prob = logreg.predict_proba(X_test)[:, 1]\n",
    "y_pred_prob"
   ]
  },
  {
   "cell_type": "code",
   "execution_count": 17,
   "metadata": {},
   "outputs": [
    {
     "name": "stdout",
     "output_type": "stream",
     "text": [
      "Confusion matrix:\n",
      " [[112   0]\n",
      " [ 22   0]] \n",
      "\n",
      "Classification report:\n",
      "               precision    recall  f1-score   support\n",
      "\n",
      "           0       0.84      1.00      0.91       112\n",
      "           1       0.00      0.00      0.00        22\n",
      "\n",
      "   micro avg       0.84      0.84      0.84       134\n",
      "   macro avg       0.42      0.50      0.46       134\n",
      "weighted avg       0.70      0.84      0.76       134\n",
      "\n"
     ]
    },
    {
     "name": "stderr",
     "output_type": "stream",
     "text": [
      "C:\\Users\\USER\\Anaconda3\\lib\\site-packages\\sklearn\\metrics\\classification.py:1143: UndefinedMetricWarning: Precision and F-score are ill-defined and being set to 0.0 in labels with no predicted samples.\n",
      "  'precision', 'predicted', average, warn_for)\n"
     ]
    }
   ],
   "source": [
    "print('Confusion matrix:\\n',confusion_matrix(y_test,y_pred_class),'\\n')\n",
    "print('Classification report:\\n',classification_report(y_test,y_pred_class))"
   ]
  },
  {
   "cell_type": "code",
   "execution_count": null,
   "metadata": {},
   "outputs": [],
   "source": []
  }
 ],
 "metadata": {
  "kernelspec": {
   "display_name": "Python 3",
   "language": "python",
   "name": "python3"
  },
  "language_info": {
   "codemirror_mode": {
    "name": "ipython",
    "version": 3
   },
   "file_extension": ".py",
   "mimetype": "text/x-python",
   "name": "python",
   "nbconvert_exporter": "python",
   "pygments_lexer": "ipython3",
   "version": "3.7.1"
  }
 },
 "nbformat": 4,
 "nbformat_minor": 2
}
